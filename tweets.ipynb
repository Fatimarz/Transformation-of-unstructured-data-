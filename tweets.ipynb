{
 "cells": [
  {
   "cell_type": "code",
   "execution_count": 1,
   "id": "4691c566-4d44-4172-a352-7695263011bf",
   "metadata": {},
   "outputs": [],
   "source": [
    "import pyspark\n",
    "from pyspark import SparkContext\n",
    "from pyspark.sql import SparkSession\n",
    "from pyspark.sql import SQLContext\n",
    "from pyspark.sql.functions import col, explode "
   ]
  },
  {
   "cell_type": "code",
   "execution_count": 2,
   "id": "98bc0519-c6af-4d9e-ba4d-be9ada099ac2",
   "metadata": {},
   "outputs": [
    {
     "name": "stdout",
     "output_type": "stream",
     "text": [
      "3.5.0\n"
     ]
    }
   ],
   "source": [
    "print(pyspark.__version__)"
   ]
  },
  {
   "cell_type": "code",
   "execution_count": 3,
   "id": "c8cec8b2-7194-41eb-bca7-eced518a66ca",
   "metadata": {},
   "outputs": [],
   "source": [
    "conf= pyspark.SparkConf().set(\"spark.jars.packages\",\\\n",
    "                              \"org.mongodb.spark:mongo-spark-connector_2.12:3.0.1\").\\\n",
    "                              setMaster(\"local\").setAppName(\"Tweets\").\\\n",
    "                              setAll([(\"spark.driver.memory\",\"40g\"), (\"spark.executor.memory\",\"50g\")])"
   ]
  },
  {
   "cell_type": "code",
   "execution_count": 4,
   "id": "c8bd4648-ddf0-4186-a9b7-c176cc10db7d",
   "metadata": {},
   "outputs": [
    {
     "data": {
      "text/plain": [
       "<pyspark.conf.SparkConf at 0x1bf7076f510>"
      ]
     },
     "execution_count": 4,
     "metadata": {},
     "output_type": "execute_result"
    }
   ],
   "source": [
    "conf"
   ]
  },
  {
   "cell_type": "code",
   "execution_count": 5,
   "id": "0d411ca4-b13f-40f5-a133-7b34a0913e44",
   "metadata": {},
   "outputs": [],
   "source": [
    "# Create a SparkSession\n",
    "spark = SparkSession.\\\n",
    "builder.config(conf=conf).\\\n",
    "getOrCreate()"
   ]
  },
  {
   "cell_type": "code",
   "execution_count": 6,
   "id": "f74f4ee6-3bde-4432-a7ba-fe7d57155c83",
   "metadata": {},
   "outputs": [],
   "source": [
    "mongo_ip=\"mongodb://localhost:27017/Tweets.\""
   ]
  },
  {
   "cell_type": "code",
   "execution_count": 7,
   "id": "d2c398b5-70c8-430e-9403-7bd76913f57d",
   "metadata": {},
   "outputs": [
    {
     "name": "stdout",
     "output_type": "stream",
     "text": [
      "mongodb://localhost:27017/Tweets.\n"
     ]
    }
   ],
   "source": [
    "print(mongo_ip)"
   ]
  },
  {
   "cell_type": "code",
   "execution_count": 8,
   "id": "87ca0e01-5dd3-45d6-a368-b4f234bcffee",
   "metadata": {},
   "outputs": [],
   "source": [
    "#collection name\n",
    "users=spark.read.format(\"com.mongodb.spark.sql.DefaultSource\").option(\"uri\", mongo_ip + \"Users\").load()"
   ]
  },
  {
   "cell_type": "code",
   "execution_count": 9,
   "id": "eaae967f-5656-4a51-afa1-e94b5a5c7817",
   "metadata": {},
   "outputs": [
    {
     "name": "stdout",
     "output_type": "stream",
     "text": [
      "+--------------------+------------+-----------+--------------------+------------------+--------------------+--------------+---------+--------------------+----+-------------------+-------------------+-----------------------+---------------------+-------------------------+-------------------+-----------------------+---------------+----+-----+-------------+---------+--------------------+---------+--------------------+\n",
      "|                 _id|contributors|coordinates|          created_at|display_text_range|            entities|favorite_count|favorited|           full_text| geo|                 id|             id_str|in_reply_to_screen_name|in_reply_to_status_id|in_reply_to_status_id_str|in_reply_to_user_id|in_reply_to_user_id_str|is_quote_status|lang|place|retweet_count|retweeted|              source|truncated|                user|\n",
      "+--------------------+------------+-----------+--------------------+------------------+--------------------+--------------+---------+--------------------+----+-------------------+-------------------+-----------------------+---------------------+-------------------------+-------------------+-----------------------+---------------+----+-----+-------------+---------+--------------------+---------+--------------------+\n",
      "|{660af32391770490...|        NULL|       NULL|Sun May 12 10:57:...|           [0, 87]|{[{ML, [79, 82]},...|             0|    false|Therefore complet...|NULL|1127528266104037376|1127528266104037376|                   NULL|                 NULL|                     NULL|               NULL|                   NULL|          false|  en| NULL|            0|    false|<a href=\"http://t...|    false|{1100299159897366...|\n",
      "|{660af32391770490...|        NULL|       NULL|Sun May 12 10:41:...|          [0, 218]|{[{ML, [210, 213]...|             1|    false|Tweet Topic Detec...|NULL|1127524087021146112|1127524087021146112|                   NULL|                 NULL|                     NULL|               NULL|                   NULL|          false|  en| NULL|            0|    false|<a href=\"http://t...|    false|{1100299159897366...|\n",
      "+--------------------+------------+-----------+--------------------+------------------+--------------------+--------------+---------+--------------------+----+-------------------+-------------------+-----------------------+---------------------+-------------------------+-------------------+-----------------------+---------------+----+-----+-------------+---------+--------------------+---------+--------------------+\n",
      "\n"
     ]
    }
   ],
   "source": [
    "users.show()"
   ]
  },
  {
   "cell_type": "code",
   "execution_count": 10,
   "id": "aa2503be-dcb7-45dd-ae7b-712774b73525",
   "metadata": {},
   "outputs": [
    {
     "name": "stdout",
     "output_type": "stream",
     "text": [
      "root\n",
      " |-- _id: struct (nullable = true)\n",
      " |    |-- oid: string (nullable = true)\n",
      " |-- contributors: void (nullable = true)\n",
      " |-- coordinates: void (nullable = true)\n",
      " |-- created_at: string (nullable = true)\n",
      " |-- display_text_range: array (nullable = true)\n",
      " |    |-- element: integer (containsNull = true)\n",
      " |-- entities: struct (nullable = true)\n",
      " |    |-- hashtags: array (nullable = true)\n",
      " |    |    |-- element: struct (containsNull = true)\n",
      " |    |    |    |-- text: string (nullable = true)\n",
      " |    |    |    |-- indices: array (nullable = true)\n",
      " |    |    |    |    |-- element: integer (containsNull = true)\n",
      " |    |-- user_mentions: array (nullable = true)\n",
      " |    |    |-- element: struct (containsNull = true)\n",
      " |    |    |    |-- screen_name: string (nullable = true)\n",
      " |    |    |    |-- name: string (nullable = true)\n",
      " |    |    |    |-- id: long (nullable = true)\n",
      " |    |    |    |-- id_str: string (nullable = true)\n",
      " |    |    |    |-- indices: array (nullable = true)\n",
      " |    |    |    |    |-- element: integer (containsNull = true)\n",
      " |-- favorite_count: integer (nullable = true)\n",
      " |-- favorited: boolean (nullable = true)\n",
      " |-- full_text: string (nullable = true)\n",
      " |-- geo: void (nullable = true)\n",
      " |-- id: long (nullable = true)\n",
      " |-- id_str: string (nullable = true)\n",
      " |-- in_reply_to_screen_name: void (nullable = true)\n",
      " |-- in_reply_to_status_id: void (nullable = true)\n",
      " |-- in_reply_to_status_id_str: void (nullable = true)\n",
      " |-- in_reply_to_user_id: void (nullable = true)\n",
      " |-- in_reply_to_user_id_str: void (nullable = true)\n",
      " |-- is_quote_status: boolean (nullable = true)\n",
      " |-- lang: string (nullable = true)\n",
      " |-- place: void (nullable = true)\n",
      " |-- retweet_count: integer (nullable = true)\n",
      " |-- retweeted: boolean (nullable = true)\n",
      " |-- source: string (nullable = true)\n",
      " |-- truncated: boolean (nullable = true)\n",
      " |-- user: struct (nullable = true)\n",
      " |    |-- id: long (nullable = true)\n",
      " |    |-- id_str: string (nullable = true)\n",
      " |    |-- name: string (nullable = true)\n",
      " |    |-- screen_name: string (nullable = true)\n",
      " |    |-- location: string (nullable = true)\n",
      " |    |-- description: string (nullable = true)\n",
      " |    |-- url: string (nullable = true)\n",
      " |    |-- entities: struct (nullable = true)\n",
      " |    |    |-- url: struct (nullable = true)\n",
      " |    |    |    |-- urls: array (nullable = true)\n",
      " |    |    |    |    |-- element: struct (containsNull = true)\n",
      " |    |    |    |    |    |-- url: string (nullable = true)\n",
      " |    |    |    |    |    |-- expanded_url: string (nullable = true)\n",
      " |    |    |    |    |    |-- display_url: string (nullable = true)\n",
      " |    |    |    |    |    |-- indices: array (nullable = true)\n",
      " |    |    |    |    |    |    |-- element: integer (containsNull = true)\n",
      " |    |-- protected: boolean (nullable = true)\n",
      " |    |-- followers_count: integer (nullable = true)\n",
      " |    |-- friends_count: integer (nullable = true)\n",
      " |    |-- listed_count: integer (nullable = true)\n",
      " |    |-- created_at: string (nullable = true)\n",
      " |    |-- favourites_count: integer (nullable = true)\n",
      " |    |-- utc_offset: void (nullable = true)\n",
      " |    |-- time_zone: void (nullable = true)\n",
      " |    |-- geo_enabled: boolean (nullable = true)\n",
      " |    |-- verified: boolean (nullable = true)\n",
      " |    |-- statuses_count: integer (nullable = true)\n",
      " |    |-- lang: string (nullable = true)\n",
      " |    |-- contributors_enabled: boolean (nullable = true)\n",
      " |    |-- is_translator: boolean (nullable = true)\n",
      " |    |-- is_translation_enabled: boolean (nullable = true)\n",
      " |    |-- profile_background_color: string (nullable = true)\n",
      " |    |-- profile_background_image_url: void (nullable = true)\n",
      " |    |-- profile_background_image_url_https: void (nullable = true)\n",
      " |    |-- profile_background_tile: boolean (nullable = true)\n",
      " |    |-- profile_image_url: string (nullable = true)\n",
      " |    |-- profile_image_url_https: string (nullable = true)\n",
      " |    |-- profile_banner_url: string (nullable = true)\n",
      " |    |-- profile_link_color: string (nullable = true)\n",
      " |    |-- profile_sidebar_border_color: string (nullable = true)\n",
      " |    |-- profile_sidebar_fill_color: string (nullable = true)\n",
      " |    |-- profile_text_color: string (nullable = true)\n",
      " |    |-- profile_use_background_image: boolean (nullable = true)\n",
      " |    |-- has_extended_profile: boolean (nullable = true)\n",
      " |    |-- default_profile: boolean (nullable = true)\n",
      " |    |-- default_profile_image: boolean (nullable = true)\n",
      " |    |-- following: boolean (nullable = true)\n",
      " |    |-- follow_request_sent: boolean (nullable = true)\n",
      " |    |-- notifications: boolean (nullable = true)\n",
      " |    |-- translator_type: string (nullable = true)\n",
      "\n"
     ]
    }
   ],
   "source": [
    "users.printSchema()"
   ]
  },
  {
   "cell_type": "code",
   "execution_count": 11,
   "id": "926f636e-dece-4da1-8ac8-ee35c9c508ce",
   "metadata": {},
   "outputs": [],
   "source": [
    "#creating temp view\n",
    "users.createOrReplaceTempView(\"MyTweet\")"
   ]
  },
  {
   "cell_type": "code",
   "execution_count": 12,
   "id": "4950d358-450e-4590-beb5-b8fd454f0bf9",
   "metadata": {},
   "outputs": [],
   "source": [
    "usersDF=spark.sql(\"SELECT * FROM MyTweet\")"
   ]
  },
  {
   "cell_type": "code",
   "execution_count": 13,
   "id": "ef00cde2-039e-4586-aa51-b4871e1b29a5",
   "metadata": {},
   "outputs": [
    {
     "name": "stdout",
     "output_type": "stream",
     "text": [
      "root\n",
      " |-- _id: struct (nullable = true)\n",
      " |    |-- oid: string (nullable = true)\n",
      " |-- contributors: void (nullable = true)\n",
      " |-- coordinates: void (nullable = true)\n",
      " |-- created_at: string (nullable = true)\n",
      " |-- display_text_range: array (nullable = true)\n",
      " |    |-- element: integer (containsNull = true)\n",
      " |-- entities: struct (nullable = true)\n",
      " |    |-- hashtags: array (nullable = true)\n",
      " |    |    |-- element: struct (containsNull = true)\n",
      " |    |    |    |-- text: string (nullable = true)\n",
      " |    |    |    |-- indices: array (nullable = true)\n",
      " |    |    |    |    |-- element: integer (containsNull = true)\n",
      " |    |-- user_mentions: array (nullable = true)\n",
      " |    |    |-- element: struct (containsNull = true)\n",
      " |    |    |    |-- screen_name: string (nullable = true)\n",
      " |    |    |    |-- name: string (nullable = true)\n",
      " |    |    |    |-- id: long (nullable = true)\n",
      " |    |    |    |-- id_str: string (nullable = true)\n",
      " |    |    |    |-- indices: array (nullable = true)\n",
      " |    |    |    |    |-- element: integer (containsNull = true)\n",
      " |-- favorite_count: integer (nullable = true)\n",
      " |-- favorited: boolean (nullable = true)\n",
      " |-- full_text: string (nullable = true)\n",
      " |-- geo: void (nullable = true)\n",
      " |-- id: long (nullable = true)\n",
      " |-- id_str: string (nullable = true)\n",
      " |-- in_reply_to_screen_name: void (nullable = true)\n",
      " |-- in_reply_to_status_id: void (nullable = true)\n",
      " |-- in_reply_to_status_id_str: void (nullable = true)\n",
      " |-- in_reply_to_user_id: void (nullable = true)\n",
      " |-- in_reply_to_user_id_str: void (nullable = true)\n",
      " |-- is_quote_status: boolean (nullable = true)\n",
      " |-- lang: string (nullable = true)\n",
      " |-- place: void (nullable = true)\n",
      " |-- retweet_count: integer (nullable = true)\n",
      " |-- retweeted: boolean (nullable = true)\n",
      " |-- source: string (nullable = true)\n",
      " |-- truncated: boolean (nullable = true)\n",
      " |-- user: struct (nullable = true)\n",
      " |    |-- id: long (nullable = true)\n",
      " |    |-- id_str: string (nullable = true)\n",
      " |    |-- name: string (nullable = true)\n",
      " |    |-- screen_name: string (nullable = true)\n",
      " |    |-- location: string (nullable = true)\n",
      " |    |-- description: string (nullable = true)\n",
      " |    |-- url: string (nullable = true)\n",
      " |    |-- entities: struct (nullable = true)\n",
      " |    |    |-- url: struct (nullable = true)\n",
      " |    |    |    |-- urls: array (nullable = true)\n",
      " |    |    |    |    |-- element: struct (containsNull = true)\n",
      " |    |    |    |    |    |-- url: string (nullable = true)\n",
      " |    |    |    |    |    |-- expanded_url: string (nullable = true)\n",
      " |    |    |    |    |    |-- display_url: string (nullable = true)\n",
      " |    |    |    |    |    |-- indices: array (nullable = true)\n",
      " |    |    |    |    |    |    |-- element: integer (containsNull = true)\n",
      " |    |-- protected: boolean (nullable = true)\n",
      " |    |-- followers_count: integer (nullable = true)\n",
      " |    |-- friends_count: integer (nullable = true)\n",
      " |    |-- listed_count: integer (nullable = true)\n",
      " |    |-- created_at: string (nullable = true)\n",
      " |    |-- favourites_count: integer (nullable = true)\n",
      " |    |-- utc_offset: void (nullable = true)\n",
      " |    |-- time_zone: void (nullable = true)\n",
      " |    |-- geo_enabled: boolean (nullable = true)\n",
      " |    |-- verified: boolean (nullable = true)\n",
      " |    |-- statuses_count: integer (nullable = true)\n",
      " |    |-- lang: string (nullable = true)\n",
      " |    |-- contributors_enabled: boolean (nullable = true)\n",
      " |    |-- is_translator: boolean (nullable = true)\n",
      " |    |-- is_translation_enabled: boolean (nullable = true)\n",
      " |    |-- profile_background_color: string (nullable = true)\n",
      " |    |-- profile_background_image_url: void (nullable = true)\n",
      " |    |-- profile_background_image_url_https: void (nullable = true)\n",
      " |    |-- profile_background_tile: boolean (nullable = true)\n",
      " |    |-- profile_image_url: string (nullable = true)\n",
      " |    |-- profile_image_url_https: string (nullable = true)\n",
      " |    |-- profile_banner_url: string (nullable = true)\n",
      " |    |-- profile_link_color: string (nullable = true)\n",
      " |    |-- profile_sidebar_border_color: string (nullable = true)\n",
      " |    |-- profile_sidebar_fill_color: string (nullable = true)\n",
      " |    |-- profile_text_color: string (nullable = true)\n",
      " |    |-- profile_use_background_image: boolean (nullable = true)\n",
      " |    |-- has_extended_profile: boolean (nullable = true)\n",
      " |    |-- default_profile: boolean (nullable = true)\n",
      " |    |-- default_profile_image: boolean (nullable = true)\n",
      " |    |-- following: boolean (nullable = true)\n",
      " |    |-- follow_request_sent: boolean (nullable = true)\n",
      " |    |-- notifications: boolean (nullable = true)\n",
      " |    |-- translator_type: string (nullable = true)\n",
      "\n"
     ]
    }
   ],
   "source": [
    "usersDF.printSchema()"
   ]
  },
  {
   "cell_type": "code",
   "execution_count": 15,
   "id": "25378fbe-3992-4dee-8e78-4f35d9189b1e",
   "metadata": {},
   "outputs": [],
   "source": [
    "usersDF = usersDF.withColumn(\"mention\",explode(\"entities.user_mentions\")).\\\n",
    "           withColumn(\"name\",col(\"mention.screen_name\")).\\\n",
    "           drop(\"mention\")"
   ]
  },
  {
   "cell_type": "code",
   "execution_count": 16,
   "id": "eceed2cc-a794-4790-856d-6fab595729a0",
   "metadata": {},
   "outputs": [
    {
     "name": "stdout",
     "output_type": "stream",
     "text": [
      "+--------------+--------------------+-----------+-----------------+----+------------+---------+--------+---------+-------+---+--------+------------+\n",
      "|          name|          created_at|screen_name|         location|tags|user_mention|fav_count|retweets|followers|friends|fav|verified|status_count|\n",
      "+--------------+--------------------+-----------+-----------------+----+------------+---------+--------+---------+-------+---+--------+------------+\n",
      "|Data Analytics|Sun May 12 10:41:...|SNA00761413|Karachi, Pakistan|   4|           4|        1|       0|      126|    147|132|   false|         182|\n",
      "|Data Analytics|Sun May 12 10:57:...|SNA00761413|Karachi, Pakistan|   4|           4|        0|       0|      126|    147|132|   false|         182|\n",
      "+--------------+--------------------+-----------+-----------------+----+------------+---------+--------+---------+-------+---+--------+------------+\n",
      "\n"
     ]
    }
   ],
   "source": [
    "from pyspark.sql.functions import count, min, max\n",
    "user=usersDF.groupBy(\"user.name\", \"created_at\")\\\n",
    "     .agg( max(\"user.screen_name\").alias(\"screen_name\"),\n",
    "         max(\"user.location\").alias(\"location\"),\n",
    "         count(\"entities.hashtags.text\").alias(\"tags\"),\n",
    "         count(\"entities.user_mentions.screen_name\").alias(\"user_mention\"),\n",
    "         max(\"favorite_count\").alias(\"fav_count\"),\n",
    "         max(\"retweet_count\").alias(\"retweets\"),\n",
    "         max(\"user.followers_count\").alias(\"followers\"),\n",
    "         max(\"user.friends_count\").alias(\"friends\"),\n",
    "         max(\"user.favourites_count\").alias(\"fav\"),\n",
    "         max(\"user.verified\").alias(\"verified\"),\n",
    "         max(\"user.statuses_count\").alias(\"status_count\"))\n",
    "         \n",
    "\n",
    "user.show()"
   ]
  }
 ],
 "metadata": {
  "kernelspec": {
   "display_name": "Python 3 (ipykernel)",
   "language": "python",
   "name": "python3"
  },
  "language_info": {
   "codemirror_mode": {
    "name": "ipython",
    "version": 3
   },
   "file_extension": ".py",
   "mimetype": "text/x-python",
   "name": "python",
   "nbconvert_exporter": "python",
   "pygments_lexer": "ipython3",
   "version": "3.11.5"
  }
 },
 "nbformat": 4,
 "nbformat_minor": 5
}
